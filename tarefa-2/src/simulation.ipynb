{
 "cells": [
  {
   "cell_type": "markdown",
   "metadata": {},
   "source": [
    "## Bibliotecas e módulos"
   ]
  },
  {
   "cell_type": "code",
   "execution_count": 5,
   "metadata": {},
   "outputs": [],
   "source": [
    "import numpy as np\n",
    "import matplotlib.pyplot as np\n",
    "import Mesh\n",
    "import Equipotentials"
   ]
  },
  {
   "cell_type": "markdown",
   "metadata": {},
   "source": [
    "## Pontos de Mapeamento"
   ]
  },
  {
   "cell_type": "code",
   "execution_count": null,
   "metadata": {},
   "outputs": [],
   "source": [
    "'''\n",
    "    Função que retorna posições iniciais\n",
    "    em que serão traçados as equipotenciais\n",
    "    checando posições de cargas\n",
    "'''\n",
    "def mappingPoints(mesh):\n",
    "    pass"
   ]
  },
  {
   "cell_type": "markdown",
   "metadata": {},
   "source": [
    "## Monopólo\n",
    "Equipotenciais de um monopólo simples para teste do algoritmo com diferentes parâmetros. O objetivo desta configuração é encontrar um parâmetro ideial para as simulações seguintes em relação a resolução (tamanho da grade, pontos de mapeamento, região de parada, ...) e velocidade do algoritmo. Fazer os seguintes casos:\n",
    "\n",
    "1. ** Baixa ** resolução e ** Alta ** velocidade\n",
    "\n",
    "2. (Parâmetros Ideais) ** Média ** resolução e ** Média ** velocidade\n",
    "\n",
    "3. ** Alta ** resolução e ** Baixa ** velocidade"
   ]
  },
  {
   "cell_type": "markdown",
   "metadata": {},
   "source": [
    "### Simulação"
   ]
  },
  {
   "cell_type": "markdown",
   "metadata": {},
   "source": [
    "#### Caso 1"
   ]
  },
  {
   "cell_type": "code",
   "execution_count": null,
   "metadata": {},
   "outputs": [],
   "source": []
  },
  {
   "cell_type": "markdown",
   "metadata": {},
   "source": [
    "#### Caso 2"
   ]
  },
  {
   "cell_type": "code",
   "execution_count": null,
   "metadata": {},
   "outputs": [],
   "source": []
  },
  {
   "cell_type": "markdown",
   "metadata": {},
   "source": [
    "#### Caso 3"
   ]
  },
  {
   "cell_type": "code",
   "execution_count": null,
   "metadata": {},
   "outputs": [],
   "source": []
  },
  {
   "cell_type": "markdown",
   "metadata": {},
   "source": [
    "## Parâmetros Ideais\n",
    "Após executado a simulação com o caso de monopólo, salvar nesse bloco os parâmetros ideiais para as próximas simulações"
   ]
  },
  {
   "cell_type": "code",
   "execution_count": null,
   "metadata": {},
   "outputs": [],
   "source": []
  },
  {
   "cell_type": "markdown",
   "metadata": {},
   "source": [
    "## Dipólo\n",
    "Equipotenciais de diferentes dipólos. Me refiro a um **dipólo** como um configuração de *cargas opostas*, separadas por uma distância diferente de zero com carga líquida nula\n",
    "\n",
    "1. ### Cargas Próximas\n",
    "Dipólo com cargas razoavelmente **próximas** ao centro da malha. Esta configuração tem o objetivo de comparar o potencial *numéricamente calculado* com o potencial de *dipólo ideial*, plotando ambos no mesmo gráfico\n",
    "\n",
    "2. ### Cargas Simétricamente Espaçadas\n",
    "Dipólo com cargas posicionados de forma **simétrica** em relação a *malha*. Esta configuração tem o objetivo de reproduzir a *figura típica de um dipólo*\n",
    "\n",
    "3. ### Cargas Distantes\n",
    "Dipólo com cargas razovelmente **distantas**, próximos a borda da malha. Esta configuração tem o objetivo de verificar o efeito das equipotênciais *entre as cargas do dipólo*\n"
   ]
  },
  {
   "cell_type": "markdown",
   "metadata": {},
   "source": [
    "### Simulação"
   ]
  },
  {
   "cell_type": "markdown",
   "metadata": {},
   "source": [
    "#### Caso 1"
   ]
  },
  {
   "cell_type": "code",
   "execution_count": null,
   "metadata": {},
   "outputs": [],
   "source": []
  },
  {
   "cell_type": "markdown",
   "metadata": {},
   "source": [
    "#### Caso 2"
   ]
  },
  {
   "cell_type": "code",
   "execution_count": null,
   "metadata": {},
   "outputs": [],
   "source": []
  },
  {
   "cell_type": "markdown",
   "metadata": {},
   "source": [
    "#### Caso 3"
   ]
  },
  {
   "cell_type": "code",
   "execution_count": null,
   "metadata": {},
   "outputs": [],
   "source": []
  },
  {
   "cell_type": "markdown",
   "metadata": {},
   "source": [
    "## Quadrupólo\n",
    "Equipotenciais de diferentes quadrupólos. Me refiro a um **quadrupólo** como sendo uma configuração de cargas dada pela junção de dois dipólos oposto em que o momento de dipólo elétrico e a carga líquida são nulos. Fazer com os casos:\n",
    "\n",
    "1. ### Cargas Próximas\n",
    "Quadrupólo com cargas razoavelmente **próximas** ao centro da malha. Esta configuração tem o objetivo de comparar o *potencial numéricamente calculado* com o *potencial de quadrupólo ideial* plotando ambos no mesmo gráfico\n",
    "\n",
    "2. ### Cargas Simétricamente Espaçadas\n",
    "Quadrupólo com cargas posicionadas de forma **simétrica** em relação a *malha*, consideremos nesse caso o tamanho de cada célula da malha de forma a computar as distâncias do item 10.3.(c)\n",
    "\n",
    "3. ### Cargas Distantes\n",
    "Quadrupólo com cargas razovelmente **distantes**, próximos a borda da malha. Esta configuração tem o objetivo de verificar os efeitos das equipotênciais no meio das cargas do quadrupólo"
   ]
  },
  {
   "cell_type": "markdown",
   "metadata": {},
   "source": [
    "### Simulação"
   ]
  },
  {
   "cell_type": "markdown",
   "metadata": {},
   "source": [
    "#### Caso 1"
   ]
  },
  {
   "cell_type": "code",
   "execution_count": null,
   "metadata": {},
   "outputs": [],
   "source": []
  },
  {
   "cell_type": "markdown",
   "metadata": {},
   "source": [
    "#### Caso 2"
   ]
  },
  {
   "cell_type": "code",
   "execution_count": null,
   "metadata": {},
   "outputs": [],
   "source": []
  },
  {
   "cell_type": "markdown",
   "metadata": {},
   "source": [
    "#### Caso 3"
   ]
  },
  {
   "cell_type": "code",
   "execution_count": null,
   "metadata": {},
   "outputs": [],
   "source": []
  },
  {
   "cell_type": "markdown",
   "metadata": {},
   "source": [
    "## Linha de Carga\n",
    "Equipotenciais de linhas de cargas. Me refiro a uma **linha de carga** como sendo uma distribuição de cargas ao longo de uma linha com *espaçamento constante*. Fazer os casos:\n",
    "\n",
    "1. ### Poucas Cargas\n",
    "Poucas cargas ao longo da linha. Esta configuração tem como objetivo verificar o estado intermediário entre contínuo e discreto\n",
    "\n",
    "2. ### Dez Cargas\n",
    "Dez cargas igualmente espaçadas entre -2.5 e 2.5 no eixo-X (direção horizontal) conforme descrito no item 10.3.(d)\n",
    "\n",
    "3. ### Muitas Cargas\n",
    "Cargas adjacentes com espaçamento \"zero\". Esta configuração tem o objetivo de verificar o caso contínuo, aproximando melhor uma linha de cargas com densidade constante"
   ]
  },
  {
   "cell_type": "markdown",
   "metadata": {},
   "source": [
    "### Simulação"
   ]
  },
  {
   "cell_type": "markdown",
   "metadata": {},
   "source": [
    "#### Caso 1"
   ]
  },
  {
   "cell_type": "code",
   "execution_count": null,
   "metadata": {},
   "outputs": [],
   "source": []
  },
  {
   "cell_type": "markdown",
   "metadata": {},
   "source": [
    "#### Caso 2"
   ]
  },
  {
   "cell_type": "code",
   "execution_count": null,
   "metadata": {},
   "outputs": [],
   "source": []
  },
  {
   "cell_type": "markdown",
   "metadata": {},
   "source": [
    "#### Caso 3"
   ]
  },
  {
   "cell_type": "code",
   "execution_count": null,
   "metadata": {},
   "outputs": [],
   "source": []
  },
  {
   "cell_type": "markdown",
   "metadata": {},
   "source": [
    "## Duas linhas de cargas\n",
    "Duas linhas de cargas com separação \"nula\" (caso 3 das linhas de carga) posicionadas com separação de 1 unidade de distância conforme descrito no item 10.3.(e). Fazer com os casos:\n",
    "\n",
    "1. ### Cargas positivas\n",
    "Ambas as linhas com cargas positiva\n",
    "\n",
    "2. ### Cargas positivas e negativas\n",
    "Ambas as linhas com cargas positiva e negativa"
   ]
  },
  {
   "cell_type": "markdown",
   "metadata": {},
   "source": [
    "### Simulação"
   ]
  },
  {
   "cell_type": "markdown",
   "metadata": {},
   "source": [
    "#### Caso 1"
   ]
  },
  {
   "cell_type": "code",
   "execution_count": null,
   "metadata": {},
   "outputs": [],
   "source": []
  },
  {
   "cell_type": "markdown",
   "metadata": {},
   "source": [
    "#### Caso 2"
   ]
  },
  {
   "cell_type": "code",
   "execution_count": null,
   "metadata": {},
   "outputs": [],
   "source": []
  }
 ],
 "metadata": {
  "kernelspec": {
   "display_name": "Python 3",
   "language": "python",
   "name": "python3"
  },
  "language_info": {
   "codemirror_mode": {
    "name": "ipython",
    "version": 3
   },
   "file_extension": ".py",
   "mimetype": "text/x-python",
   "name": "python",
   "nbconvert_exporter": "python",
   "pygments_lexer": "ipython3",
   "version": "3.7.4"
  }
 },
 "nbformat": 4,
 "nbformat_minor": 4
}
