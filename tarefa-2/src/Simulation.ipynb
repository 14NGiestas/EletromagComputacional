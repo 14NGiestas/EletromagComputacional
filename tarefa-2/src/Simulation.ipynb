{
 "cells": [
  {
   "cell_type": "markdown",
   "metadata": {},
   "source": [
    "## Bibliotecas e Módulos"
   ]
  },
  {
   "cell_type": "code",
   "execution_count": 29,
   "metadata": {},
   "outputs": [],
   "source": [
    "import numpy as np\n",
    "import math\n",
    "import matplotlib.pyplot as plt\n",
    "from equipotential.mesh import MeshEE\n",
    "plt.style.use('seaborn')"
   ]
  },
  {
   "cell_type": "markdown",
   "metadata": {},
   "source": [
    "## Monopólo"
   ]
  },
  {
   "cell_type": "code",
   "execution_count": 39,
   "metadata": {},
   "outputs": [],
   "source": [
    "# Malha Inicial\n",
    "mesh = MeshEE(10, 10)\n",
    "mesh.squareScale(2)\n",
    "\n",
    "# Carga\n",
    "q = 10\n",
    "mesh.addCharge(0, 0, q)"
   ]
  },
  {
   "cell_type": "markdown",
   "metadata": {},
   "source": [
    "### Caso 1\n",
    "**Baixa** resolução e **Alta** velocidade"
   ]
  },
  {
   "cell_type": "code",
   "execution_count": 40,
   "metadata": {},
   "outputs": [
    {
     "ename": "AttributeError",
     "evalue": "'MeshEE' object has no attribute 'horSym'",
     "output_type": "error",
     "traceback": [
      "\u001b[0;31m---------------------------------------------------------------------------\u001b[0m",
      "\u001b[0;31mAttributeError\u001b[0m                            Traceback (most recent call last)",
      "\u001b[0;32m<ipython-input-40-82dfe2b74655>\u001b[0m in \u001b[0;36m<module>\u001b[0;34m\u001b[0m\n\u001b[1;32m      4\u001b[0m \u001b[0mmapPtsDelta\u001b[0m \u001b[0;34m=\u001b[0m \u001b[0;36m5\u001b[0m\u001b[0;34m\u001b[0m\u001b[0;34m\u001b[0m\u001b[0m\n\u001b[1;32m      5\u001b[0m \u001b[0;34m\u001b[0m\u001b[0m\n\u001b[0;32m----> 6\u001b[0;31m \u001b[0mmesh\u001b[0m\u001b[0;34m.\u001b[0m\u001b[0mhorSym\u001b[0m\u001b[0;34m(\u001b[0m\u001b[0;32mFalse\u001b[0m\u001b[0;34m)\u001b[0m\u001b[0;34m\u001b[0m\u001b[0;34m\u001b[0m\u001b[0m\n\u001b[0m\u001b[1;32m      7\u001b[0m \u001b[0mmesh\u001b[0m\u001b[0;34m.\u001b[0m\u001b[0mverSym\u001b[0m\u001b[0;34m(\u001b[0m\u001b[0;32mTrue\u001b[0m\u001b[0;34m)\u001b[0m\u001b[0;34m\u001b[0m\u001b[0;34m\u001b[0m\u001b[0m\n\u001b[1;32m      8\u001b[0m \u001b[0mmesh\u001b[0m\u001b[0;34m.\u001b[0m\u001b[0mmapPtsLines\u001b[0m\u001b[0;34m(\u001b[0m\u001b[0mdelta_j\u001b[0m\u001b[0;34m=\u001b[0m\u001b[0mmapPtsDelta\u001b[0m\u001b[0;34m)\u001b[0m\u001b[0;34m\u001b[0m\u001b[0;34m\u001b[0m\u001b[0m\n",
      "\u001b[0;31mAttributeError\u001b[0m: 'MeshEE' object has no attribute 'horSym'"
     ]
    }
   ],
   "source": [
    "mesh.dim = [100, 100]\n",
    "mesh.cycleStoppingRegion = 1\n",
    "mesh.ptLen = 1\n",
    "mapPtsDelta = 5\n",
    "\n",
    "mesh.horSym(False)\n",
    "mesh.verSym(True)\n",
    "mesh.mapPtsLines(delta_j=mapPtsDelta)\n",
    "mesh.drawAllEquip()\n",
    "meshArr = mesh.getMeshArr()\n",
    "\n",
    "# Parâmetros do Plot\n",
    "extent = np.array(mesh.scale).reshape([4])\n",
    "Vlim = 2*q\n",
    "\n",
    "# Plot\n",
    "plt.clf()\n",
    "plt.figure(figsize=(8, 7))\n",
    "plt.rc('axes', labelsize=14)\n",
    "plt.imshow(meshArr, cmap='Blues', extent=extent, vmin=0, vmax=Vlim, interpolation='gaussian')\n",
    "plt.xlabel('distance')\n",
    "plt.ylabel('distance')\n",
    "cbar = plt.colorbar()\n",
    "cbar.set_label('Unit of Voltage')\n",
    "plt.savefig('plots/monopole-case-1.png')\n",
    "plt.show()"
   ]
  },
  {
   "cell_type": "markdown",
   "metadata": {},
   "source": [
    "Próximo a carga, quando o potencial é grande, o algoritmo começa a falhar no traço da equipotencial. No método trace(), quando o ponto de referência **ref_pt** passa pela cirfunferência em uma região com deriavada quase zero, ou seja, o segmento da circunferência é quase uma reta horizontal, os erros numéricos são maiores pois quase não há diferença no potencial dos pontos ao redor em uma dada direção em relação ao ref_pt, portanto ao invés do algoritmo continuar tracejando a linha na direção da curva, ele oscila em alguns pontos, de forma a não conseguir continuar mais e sendo parado pela condição **lim_pts**."
   ]
  },
  {
   "cell_type": "markdown",
   "metadata": {},
   "source": [
    "### Caso 2\n",
    "**Alta** resolução e **Baixa** velocidade"
   ]
  },
  {
   "cell_type": "code",
   "execution_count": 41,
   "metadata": {},
   "outputs": [
    {
     "ename": "AttributeError",
     "evalue": "'MeshEE' object has no attribute 'clear'",
     "output_type": "error",
     "traceback": [
      "\u001b[0;31m---------------------------------------------------------------------------\u001b[0m",
      "\u001b[0;31mAttributeError\u001b[0m                            Traceback (most recent call last)",
      "\u001b[0;32m<ipython-input-41-2c3047728592>\u001b[0m in \u001b[0;36m<module>\u001b[0;34m\u001b[0m\n\u001b[1;32m      1\u001b[0m \u001b[0;31m# Parâmetros\u001b[0m\u001b[0;34m\u001b[0m\u001b[0;34m\u001b[0m\u001b[0;34m\u001b[0m\u001b[0m\n\u001b[0;32m----> 2\u001b[0;31m \u001b[0mmesh\u001b[0m\u001b[0;34m.\u001b[0m\u001b[0mclear\u001b[0m\u001b[0;34m(\u001b[0m\u001b[0;34m)\u001b[0m\u001b[0;34m\u001b[0m\u001b[0;34m\u001b[0m\u001b[0m\n\u001b[0m\u001b[1;32m      3\u001b[0m \u001b[0mmesh\u001b[0m\u001b[0;34m.\u001b[0m\u001b[0mdim\u001b[0m \u001b[0;34m=\u001b[0m \u001b[0;34m[\u001b[0m\u001b[0;36m1000\u001b[0m\u001b[0;34m,\u001b[0m \u001b[0;36m1000\u001b[0m\u001b[0;34m]\u001b[0m\u001b[0;34m\u001b[0m\u001b[0;34m\u001b[0m\u001b[0m\n\u001b[1;32m      4\u001b[0m \u001b[0mmesh\u001b[0m\u001b[0;34m.\u001b[0m\u001b[0mcycleStoppingRegion\u001b[0m \u001b[0;34m=\u001b[0m \u001b[0;36m1\u001b[0m\u001b[0;34m\u001b[0m\u001b[0;34m\u001b[0m\u001b[0m\n\u001b[1;32m      5\u001b[0m \u001b[0mmesh\u001b[0m\u001b[0;34m.\u001b[0m\u001b[0mptLen\u001b[0m \u001b[0;34m=\u001b[0m \u001b[0;36m3\u001b[0m\u001b[0;34m\u001b[0m\u001b[0;34m\u001b[0m\u001b[0m\n",
      "\u001b[0;31mAttributeError\u001b[0m: 'MeshEE' object has no attribute 'clear'"
     ]
    }
   ],
   "source": [
    "# Parâmetros\n",
    "mesh.clear()\n",
    "mesh.dim = [1000, 1000]\n",
    "mesh.cycleStoppingRegion = 1\n",
    "mesh.ptLen = 3\n",
    "mapPtsDelta = 20\n",
    "\n",
    "mesh.horSym(False)\n",
    "mesh.verSym(True)\n",
    "mesh.mapPtsLines(delta_j=mapPtsDelta)\n",
    "mesh.drawAllEquip()\n",
    "meshArr = mesh.getMeshArr()\n",
    "\n",
    "# Parâmetros do Plot\n",
    "extent = np.array(mesh.scale).reshape([4])\n",
    "Vlim = 2*q\n",
    "\n",
    "# Plot\n",
    "plt.clf()\n",
    "plt.figure(figsize=(8, 7))\n",
    "plt.rc('axes', labelsize=14)\n",
    "plt.imshow(meshArr, cmap='Blues', extent=extent, vmin=0, vmax=Vlim, interpolation='gaussian')\n",
    "plt.xlabel('distance')\n",
    "plt.ylabel('distance')\n",
    "cbar = plt.colorbar()\n",
    "cbar.set_label('Unit of Voltage')\n",
    "plt.savefig('plots/monopole-case-2.png')\n",
    "plt.show()"
   ]
  },
  {
   "cell_type": "markdown",
   "metadata": {},
   "source": [
    "### Caso 3\n",
    "(Bons Parâmetros) **Média** resolução e **Média** velocidade"
   ]
  },
  {
   "cell_type": "code",
   "execution_count": 42,
   "metadata": {},
   "outputs": [
    {
     "ename": "AttributeError",
     "evalue": "'MeshEE' object has no attribute 'clear'",
     "output_type": "error",
     "traceback": [
      "\u001b[0;31m---------------------------------------------------------------------------\u001b[0m",
      "\u001b[0;31mAttributeError\u001b[0m                            Traceback (most recent call last)",
      "\u001b[0;32m<ipython-input-42-da8671cb1ad9>\u001b[0m in \u001b[0;36m<module>\u001b[0;34m\u001b[0m\n\u001b[1;32m      1\u001b[0m \u001b[0;31m# Parâmetros\u001b[0m\u001b[0;34m\u001b[0m\u001b[0;34m\u001b[0m\u001b[0;34m\u001b[0m\u001b[0m\n\u001b[0;32m----> 2\u001b[0;31m \u001b[0mmesh\u001b[0m\u001b[0;34m.\u001b[0m\u001b[0mclear\u001b[0m\u001b[0;34m(\u001b[0m\u001b[0;34m)\u001b[0m\u001b[0;34m\u001b[0m\u001b[0;34m\u001b[0m\u001b[0m\n\u001b[0m\u001b[1;32m      3\u001b[0m \u001b[0mmesh\u001b[0m\u001b[0;34m.\u001b[0m\u001b[0mdim\u001b[0m \u001b[0;34m=\u001b[0m \u001b[0;34m[\u001b[0m\u001b[0;36m500\u001b[0m\u001b[0;34m,\u001b[0m \u001b[0;36m500\u001b[0m\u001b[0;34m]\u001b[0m\u001b[0;34m\u001b[0m\u001b[0;34m\u001b[0m\u001b[0m\n\u001b[1;32m      4\u001b[0m \u001b[0mmesh\u001b[0m\u001b[0;34m.\u001b[0m\u001b[0mcycleStoppingRegion\u001b[0m \u001b[0;34m=\u001b[0m \u001b[0;36m1\u001b[0m\u001b[0;34m\u001b[0m\u001b[0;34m\u001b[0m\u001b[0m\n\u001b[1;32m      5\u001b[0m \u001b[0mmesh\u001b[0m\u001b[0;34m.\u001b[0m\u001b[0mptLen\u001b[0m \u001b[0;34m=\u001b[0m \u001b[0;36m2\u001b[0m\u001b[0;34m\u001b[0m\u001b[0;34m\u001b[0m\u001b[0m\n",
      "\u001b[0;31mAttributeError\u001b[0m: 'MeshEE' object has no attribute 'clear'"
     ]
    }
   ],
   "source": [
    "# Parâmetros\n",
    "mesh.clear()\n",
    "mesh.dim = [500, 500]\n",
    "mesh.cycleStoppingRegion = 1\n",
    "mesh.ptLen = 2\n",
    "mapPtsDelta = 20\n",
    "\n",
    "mesh.horSym(False)\n",
    "mesh.verSym(True)\n",
    "mesh.mapPtsLines(delta_j=mapPtsDelta)\n",
    "mesh.drawAllEquip()\n",
    "meshArr = mesh.getMeshArr()\n",
    "\n",
    "# Parâmetros do Plot\n",
    "extent = np.array(mesh.scale).reshape([4])\n",
    "Vlim = 2*q\n",
    "\n",
    "# Plot\n",
    "plt.clf()\n",
    "plt.figure(figsize=(8, 7))\n",
    "plt.rc('axes', labelsize=14)\n",
    "plt.imshow(meshArr, cmap='Blues', extent=extent, vmin=0, vmax=Vlim, interpolation='gaussian')\n",
    "plt.xlabel('distance')\n",
    "plt.ylabel('distance')\n",
    "cbar = plt.colorbar()\n",
    "cbar.set_label('Unit of Voltage')\n",
    "plt.savefig('plots/monopole-case-3.png')\n",
    "plt.show()"
   ]
  },
  {
   "cell_type": "markdown",
   "metadata": {},
   "source": [
    "## Parâmetros Bons"
   ]
  },
  {
   "cell_type": "code",
   "execution_count": 34,
   "metadata": {},
   "outputs": [],
   "source": [
    "# Parâmetros\n",
    "mesh = MeshEE(500, 500)\n",
    "mesh.squareScale(2)\n",
    "mesh.cycleStoppingRegion = 1\n",
    "mesh.ptLen = 2\n",
    "mapPtsDelta = 20\n",
    "q = 10"
   ]
  },
  {
   "cell_type": "markdown",
   "metadata": {},
   "source": [
    "## Dipólo"
   ]
  },
  {
   "cell_type": "code",
   "execution_count": 35,
   "metadata": {},
   "outputs": [
    {
     "ename": "AttributeError",
     "evalue": "'MeshEE' object has no attribute 'clearCharges'",
     "output_type": "error",
     "traceback": [
      "\u001b[0;31m---------------------------------------------------------------------------\u001b[0m",
      "\u001b[0;31mAttributeError\u001b[0m                            Traceback (most recent call last)",
      "\u001b[0;32m<ipython-input-35-50dc52d9ef8b>\u001b[0m in \u001b[0;36m<module>\u001b[0;34m\u001b[0m\n\u001b[1;32m      1\u001b[0m \u001b[0;31m# Cargas\u001b[0m\u001b[0;34m\u001b[0m\u001b[0;34m\u001b[0m\u001b[0;34m\u001b[0m\u001b[0m\n\u001b[0;32m----> 2\u001b[0;31m \u001b[0mmesh\u001b[0m\u001b[0;34m.\u001b[0m\u001b[0mclearCharges\u001b[0m\u001b[0;34m(\u001b[0m\u001b[0;34m)\u001b[0m\u001b[0;34m\u001b[0m\u001b[0;34m\u001b[0m\u001b[0m\n\u001b[0m\u001b[1;32m      3\u001b[0m \u001b[0mmesh\u001b[0m\u001b[0;34m.\u001b[0m\u001b[0maddCharge\u001b[0m\u001b[0;34m(\u001b[0m\u001b[0;36m1\u001b[0m\u001b[0;34m,\u001b[0m \u001b[0;36m0\u001b[0m\u001b[0;34m,\u001b[0m \u001b[0mq\u001b[0m\u001b[0;34m)\u001b[0m\u001b[0;34m\u001b[0m\u001b[0;34m\u001b[0m\u001b[0m\n\u001b[1;32m      4\u001b[0m \u001b[0mmesh\u001b[0m\u001b[0;34m.\u001b[0m\u001b[0maddCharge\u001b[0m\u001b[0;34m(\u001b[0m\u001b[0;34m-\u001b[0m\u001b[0;36m1\u001b[0m\u001b[0;34m,\u001b[0m \u001b[0;36m0\u001b[0m\u001b[0;34m,\u001b[0m \u001b[0;34m-\u001b[0m\u001b[0mq\u001b[0m\u001b[0;34m)\u001b[0m\u001b[0;34m\u001b[0m\u001b[0;34m\u001b[0m\u001b[0m\n",
      "\u001b[0;31mAttributeError\u001b[0m: 'MeshEE' object has no attribute 'clearCharges'"
     ]
    }
   ],
   "source": [
    "# Cargas\n",
    "mesh.clearCharges()\n",
    "mesh.addCharge(1, 0, q)\n",
    "mesh.addCharge(-1, 0, -q)"
   ]
  },
  {
   "cell_type": "markdown",
   "metadata": {},
   "source": [
    "### Caso 1\n",
    "Cargas **simétricamente** espaçadas"
   ]
  },
  {
   "cell_type": "code",
   "execution_count": 36,
   "metadata": {},
   "outputs": [
    {
     "ename": "AttributeError",
     "evalue": "'MeshEE' object has no attribute 'horSym'",
     "output_type": "error",
     "traceback": [
      "\u001b[0;31m---------------------------------------------------------------------------\u001b[0m",
      "\u001b[0;31mAttributeError\u001b[0m                            Traceback (most recent call last)",
      "\u001b[0;32m<ipython-input-36-300ad3ac88b0>\u001b[0m in \u001b[0;36m<module>\u001b[0;34m\u001b[0m\n\u001b[1;32m      1\u001b[0m \u001b[0;31m# Parâmetros\u001b[0m\u001b[0;34m\u001b[0m\u001b[0;34m\u001b[0m\u001b[0;34m\u001b[0m\u001b[0m\n\u001b[0;32m----> 2\u001b[0;31m \u001b[0mmesh\u001b[0m\u001b[0;34m.\u001b[0m\u001b[0mhorSym\u001b[0m\u001b[0;34m(\u001b[0m\u001b[0;32mFalse\u001b[0m\u001b[0;34m)\u001b[0m\u001b[0;34m\u001b[0m\u001b[0;34m\u001b[0m\u001b[0m\n\u001b[0m\u001b[1;32m      3\u001b[0m \u001b[0mmesh\u001b[0m\u001b[0;34m.\u001b[0m\u001b[0mverSym\u001b[0m\u001b[0;34m(\u001b[0m\u001b[0;32mTrue\u001b[0m\u001b[0;34m,\u001b[0m \u001b[0mantsym\u001b[0m\u001b[0;34m=\u001b[0m\u001b[0;32mTrue\u001b[0m\u001b[0;34m)\u001b[0m\u001b[0;34m\u001b[0m\u001b[0;34m\u001b[0m\u001b[0m\n\u001b[1;32m      4\u001b[0m \u001b[0mmesh\u001b[0m\u001b[0;34m.\u001b[0m\u001b[0mmapPtsLines\u001b[0m\u001b[0;34m(\u001b[0m\u001b[0mdelta_j\u001b[0m\u001b[0;34m=\u001b[0m\u001b[0mmapPtsDelta\u001b[0m\u001b[0;34m)\u001b[0m\u001b[0;34m\u001b[0m\u001b[0;34m\u001b[0m\u001b[0m\n\u001b[1;32m      5\u001b[0m \u001b[0mmesh\u001b[0m\u001b[0;34m.\u001b[0m\u001b[0mdrawAllEquip\u001b[0m\u001b[0;34m(\u001b[0m\u001b[0;34m)\u001b[0m\u001b[0;34m\u001b[0m\u001b[0;34m\u001b[0m\u001b[0m\n",
      "\u001b[0;31mAttributeError\u001b[0m: 'MeshEE' object has no attribute 'horSym'"
     ]
    }
   ],
   "source": [
    "# Parâmetros\n",
    "mesh.horSym(False)\n",
    "mesh.verSym(True, antsym=True)\n",
    "mesh.mapPtsLines(delta_j=mapPtsDelta)\n",
    "mesh.drawAllEquip()\n",
    "meshArr = mesh.getMeshArr()\n",
    "\n",
    "# Parâmetros do Plot\n",
    "extent = np.array(mesh.scale).reshape([4])\n",
    "Vlim = 2*q\n",
    "\n",
    "# Plot\n",
    "plt.clf()\n",
    "plt.figure(figsize=(8, 7))\n",
    "plt.rc('axes', labelsize=14)\n",
    "plt.imshow(meshArr, cmap='RdBu', extent=extent, vmin=-Vlim, vmax=Vlim, interpolation='gaussian')\n",
    "plt.xlabel('distance')\n",
    "plt.ylabel('distance')\n",
    "cbar = plt.colorbar()\n",
    "cbar.set_label('Unit of Voltage')\n",
    "plt.savefig('plots/dipole-case-1.png')\n",
    "plt.show()"
   ]
  },
  {
   "cell_type": "markdown",
   "metadata": {},
   "source": [
    "### Caso 2\n",
    "Cargas **distantes**"
   ]
  },
  {
   "cell_type": "code",
   "execution_count": 37,
   "metadata": {},
   "outputs": [
    {
     "ename": "AttributeError",
     "evalue": "'MeshEE' object has no attribute 'clear'",
     "output_type": "error",
     "traceback": [
      "\u001b[0;31m---------------------------------------------------------------------------\u001b[0m",
      "\u001b[0;31mAttributeError\u001b[0m                            Traceback (most recent call last)",
      "\u001b[0;32m<ipython-input-37-a939ec607325>\u001b[0m in \u001b[0;36m<module>\u001b[0;34m\u001b[0m\n\u001b[1;32m      1\u001b[0m \u001b[0;31m# Parâmetros\u001b[0m\u001b[0;34m\u001b[0m\u001b[0;34m\u001b[0m\u001b[0;34m\u001b[0m\u001b[0m\n\u001b[0;32m----> 2\u001b[0;31m \u001b[0mmesh\u001b[0m\u001b[0;34m.\u001b[0m\u001b[0mclear\u001b[0m\u001b[0;34m(\u001b[0m\u001b[0;34m)\u001b[0m\u001b[0;34m\u001b[0m\u001b[0;34m\u001b[0m\u001b[0m\n\u001b[0m\u001b[1;32m      3\u001b[0m \u001b[0mmesh\u001b[0m\u001b[0;34m.\u001b[0m\u001b[0msquareScale\u001b[0m\u001b[0;34m(\u001b[0m\u001b[0;36m1\u001b[0m\u001b[0;34m)\u001b[0m\u001b[0;34m\u001b[0m\u001b[0;34m\u001b[0m\u001b[0m\n\u001b[1;32m      4\u001b[0m \u001b[0mmesh\u001b[0m\u001b[0;34m.\u001b[0m\u001b[0mhorSym\u001b[0m\u001b[0;34m(\u001b[0m\u001b[0;32mFalse\u001b[0m\u001b[0;34m)\u001b[0m\u001b[0;34m\u001b[0m\u001b[0;34m\u001b[0m\u001b[0m\n\u001b[1;32m      5\u001b[0m \u001b[0mmesh\u001b[0m\u001b[0;34m.\u001b[0m\u001b[0mverSym\u001b[0m\u001b[0;34m(\u001b[0m\u001b[0;32mTrue\u001b[0m\u001b[0;34m,\u001b[0m \u001b[0mantsym\u001b[0m\u001b[0;34m=\u001b[0m\u001b[0;32mTrue\u001b[0m\u001b[0;34m)\u001b[0m\u001b[0;34m\u001b[0m\u001b[0;34m\u001b[0m\u001b[0m\n",
      "\u001b[0;31mAttributeError\u001b[0m: 'MeshEE' object has no attribute 'clear'"
     ]
    }
   ],
   "source": [
    "# Parâmetros\n",
    "mesh.clear()\n",
    "mesh.squareScale(1)\n",
    "mesh.horSym(False)\n",
    "mesh.verSym(True, antsym=True)\n",
    "mesh.mapPtsLines(delta_j=mapPtsDelta)\n",
    "mesh.drawAllEquip()\n",
    "meshArr = mesh.getMeshArr()\n",
    "\n",
    "# Parâmetros do Plot\n",
    "extent = np.array(mesh.scale).reshape([4])\n",
    "Vlim = 2*q\n",
    "\n",
    "# Plot\n",
    "plt.clf()\n",
    "plt.figure(figsize=(8, 7))\n",
    "plt.rc('axes', labelsize=14)\n",
    "plt.imshow(meshArr, cmap='RdBu', extent=extent, vmin=-Vlim, vmax=Vlim, interpolation='gaussian')\n",
    "plt.xlabel('distance')\n",
    "plt.ylabel('distance')\n",
    "cbar = plt.colorbar()\n",
    "cbar.set_label('Unit of Voltage')\n",
    "plt.savefig('plots/dipole-case-2.png')\n",
    "plt.show()"
   ]
  },
  {
   "cell_type": "markdown",
   "metadata": {},
   "source": [
    "### Caso 3\n",
    "Cargas **próximas**"
   ]
  },
  {
   "cell_type": "code",
   "execution_count": 38,
   "metadata": {},
   "outputs": [
    {
     "ename": "AttributeError",
     "evalue": "'MeshEE' object has no attribute 'clear'",
     "output_type": "error",
     "traceback": [
      "\u001b[0;31m---------------------------------------------------------------------------\u001b[0m",
      "\u001b[0;31mAttributeError\u001b[0m                            Traceback (most recent call last)",
      "\u001b[0;32m<ipython-input-38-209bed55a212>\u001b[0m in \u001b[0;36m<module>\u001b[0;34m\u001b[0m\n\u001b[1;32m      1\u001b[0m \u001b[0;31m# Parâmetros\u001b[0m\u001b[0;34m\u001b[0m\u001b[0;34m\u001b[0m\u001b[0;34m\u001b[0m\u001b[0m\n\u001b[0;32m----> 2\u001b[0;31m \u001b[0mmesh\u001b[0m\u001b[0;34m.\u001b[0m\u001b[0mclear\u001b[0m\u001b[0;34m(\u001b[0m\u001b[0;34m)\u001b[0m\u001b[0;34m\u001b[0m\u001b[0;34m\u001b[0m\u001b[0m\n\u001b[0m\u001b[1;32m      3\u001b[0m \u001b[0mmesh\u001b[0m\u001b[0;34m.\u001b[0m\u001b[0msquareScale\u001b[0m\u001b[0;34m(\u001b[0m\u001b[0;36m15\u001b[0m\u001b[0;34m)\u001b[0m\u001b[0;34m\u001b[0m\u001b[0;34m\u001b[0m\u001b[0m\n\u001b[1;32m      4\u001b[0m \u001b[0mmesh\u001b[0m\u001b[0;34m.\u001b[0m\u001b[0mhorSym\u001b[0m\u001b[0;34m(\u001b[0m\u001b[0;32mFalse\u001b[0m\u001b[0;34m)\u001b[0m\u001b[0;34m\u001b[0m\u001b[0;34m\u001b[0m\u001b[0m\n\u001b[1;32m      5\u001b[0m \u001b[0mmesh\u001b[0m\u001b[0;34m.\u001b[0m\u001b[0mverSym\u001b[0m\u001b[0;34m(\u001b[0m\u001b[0;32mTrue\u001b[0m\u001b[0;34m,\u001b[0m \u001b[0mantsym\u001b[0m\u001b[0;34m=\u001b[0m\u001b[0;32mTrue\u001b[0m\u001b[0;34m)\u001b[0m\u001b[0;34m\u001b[0m\u001b[0;34m\u001b[0m\u001b[0m\n",
      "\u001b[0;31mAttributeError\u001b[0m: 'MeshEE' object has no attribute 'clear'"
     ]
    }
   ],
   "source": [
    "# Parâmetros\n",
    "mesh.clear()\n",
    "mesh.squareScale(15)\n",
    "mesh.horSym(False)\n",
    "mesh.verSym(True, antsym=True)\n",
    "mesh.mapPtsLines(delta_j=mapPtsDelta)\n",
    "mesh.drawAllEquip()\n",
    "meshArr = mesh.getMeshArr()\n",
    "\n",
    "# Parâmetros do Plot\n",
    "extent = np.array(mesh.scale).reshape([4])\n",
    "Vlim = q/10 # Aumenta o alcance de cores do imshow\n",
    "\n",
    "# Plot\n",
    "plt.clf()\n",
    "plt.figure(figsize=(8, 7))\n",
    "plt.rc('axes', labelsize=14)\n",
    "plt.imshow(meshArr, cmap='RdBu', extent=extent, vmin=-Vlim, vmax=Vlim, interpolation='gaussian')\n",
    "plt.xlabel('distance')\n",
    "plt.ylabel('distance')\n",
    "cbar = plt.colorbar()\n",
    "cbar.set_label('Unit of Voltage')\n",
    "plt.savefig('plots/dipole-case-3.png')\n",
    "plt.show()"
   ]
  },
  {
   "cell_type": "markdown",
   "metadata": {},
   "source": [
    "## Quadrupólo"
   ]
  },
  {
   "cell_type": "markdown",
   "metadata": {},
   "source": [
    "## Parâmetros Bons"
   ]
  },
  {
   "cell_type": "code",
   "execution_count": 21,
   "metadata": {},
   "outputs": [],
   "source": [
    "# Parâmetros\n",
    "mesh = MeshEE(500, 500)\n",
    "mesh.squareScale(2)\n",
    "mesh.cycleStoppingRegion = 1\n",
    "mesh.ptLen = 2\n",
    "mapPtsDelta = 10\n",
    "q = 10"
   ]
  },
  {
   "cell_type": "markdown",
   "metadata": {},
   "source": [
    "## Quadrupólo"
   ]
  },
  {
   "cell_type": "code",
   "execution_count": 22,
   "metadata": {},
   "outputs": [
    {
     "ename": "AttributeError",
     "evalue": "'MeshEE' object has no attribute 'clearCharges'",
     "output_type": "error",
     "traceback": [
      "\u001b[0;31m---------------------------------------------------------------------------\u001b[0m",
      "\u001b[0;31mAttributeError\u001b[0m                            Traceback (most recent call last)",
      "\u001b[0;32m<ipython-input-22-5fd89c4c3501>\u001b[0m in \u001b[0;36m<module>\u001b[0;34m\u001b[0m\n\u001b[1;32m      1\u001b[0m \u001b[0;31m# Cargas\u001b[0m\u001b[0;34m\u001b[0m\u001b[0;34m\u001b[0m\u001b[0;34m\u001b[0m\u001b[0m\n\u001b[0;32m----> 2\u001b[0;31m \u001b[0mmesh\u001b[0m\u001b[0;34m.\u001b[0m\u001b[0mclearCharges\u001b[0m\u001b[0;34m(\u001b[0m\u001b[0;34m)\u001b[0m\u001b[0;34m\u001b[0m\u001b[0;34m\u001b[0m\u001b[0m\n\u001b[0m\u001b[1;32m      3\u001b[0m \u001b[0mmesh\u001b[0m\u001b[0;34m.\u001b[0m\u001b[0maddCharge\u001b[0m\u001b[0;34m(\u001b[0m\u001b[0;36m0\u001b[0m\u001b[0;34m,\u001b[0m \u001b[0;36m1\u001b[0m\u001b[0;34m,\u001b[0m \u001b[0;34m-\u001b[0m\u001b[0mq\u001b[0m\u001b[0;34m)\u001b[0m\u001b[0;34m\u001b[0m\u001b[0;34m\u001b[0m\u001b[0m\n\u001b[1;32m      4\u001b[0m \u001b[0mmesh\u001b[0m\u001b[0;34m.\u001b[0m\u001b[0maddCharge\u001b[0m\u001b[0;34m(\u001b[0m\u001b[0;36m0\u001b[0m\u001b[0;34m,\u001b[0m \u001b[0;34m-\u001b[0m\u001b[0;36m1\u001b[0m\u001b[0;34m,\u001b[0m \u001b[0;34m-\u001b[0m\u001b[0mq\u001b[0m\u001b[0;34m)\u001b[0m\u001b[0;34m\u001b[0m\u001b[0;34m\u001b[0m\u001b[0m\n\u001b[1;32m      5\u001b[0m \u001b[0mmesh\u001b[0m\u001b[0;34m.\u001b[0m\u001b[0maddCharge\u001b[0m\u001b[0;34m(\u001b[0m\u001b[0;36m1\u001b[0m\u001b[0;34m,\u001b[0m \u001b[0;36m0\u001b[0m\u001b[0;34m,\u001b[0m \u001b[0mq\u001b[0m\u001b[0;34m)\u001b[0m\u001b[0;34m\u001b[0m\u001b[0;34m\u001b[0m\u001b[0m\n",
      "\u001b[0;31mAttributeError\u001b[0m: 'MeshEE' object has no attribute 'clearCharges'"
     ]
    }
   ],
   "source": [
    "# Cargas\n",
    "mesh.clearCharges()\n",
    "mesh.addCharge(0, 1, -q)\n",
    "mesh.addCharge(0, -1, -q)\n",
    "mesh.addCharge(1, 0, q)\n",
    "mesh.addCharge(-1, 0, q)"
   ]
  },
  {
   "cell_type": "markdown",
   "metadata": {},
   "source": [
    "### Caso 1\n",
    "Cargas **simetricamente** distribuidas"
   ]
  },
  {
   "cell_type": "code",
   "execution_count": 23,
   "metadata": {},
   "outputs": [
    {
     "ename": "AttributeError",
     "evalue": "'MeshEE' object has no attribute 'clear'",
     "output_type": "error",
     "traceback": [
      "\u001b[0;31m---------------------------------------------------------------------------\u001b[0m",
      "\u001b[0;31mAttributeError\u001b[0m                            Traceback (most recent call last)",
      "\u001b[0;32m<ipython-input-23-f8dab136d97c>\u001b[0m in \u001b[0;36m<module>\u001b[0;34m\u001b[0m\n\u001b[1;32m      1\u001b[0m \u001b[0;31m# Parâmetros\u001b[0m\u001b[0;34m\u001b[0m\u001b[0;34m\u001b[0m\u001b[0;34m\u001b[0m\u001b[0m\n\u001b[0;32m----> 2\u001b[0;31m \u001b[0mmesh\u001b[0m\u001b[0;34m.\u001b[0m\u001b[0mclear\u001b[0m\u001b[0;34m(\u001b[0m\u001b[0;34m)\u001b[0m\u001b[0;34m\u001b[0m\u001b[0;34m\u001b[0m\u001b[0m\n\u001b[0m\u001b[1;32m      3\u001b[0m \u001b[0mmesh\u001b[0m\u001b[0;34m.\u001b[0m\u001b[0mhorSym\u001b[0m\u001b[0;34m(\u001b[0m\u001b[0;32mFalse\u001b[0m\u001b[0;34m)\u001b[0m\u001b[0;34m\u001b[0m\u001b[0;34m\u001b[0m\u001b[0m\n\u001b[1;32m      4\u001b[0m \u001b[0mmesh\u001b[0m\u001b[0;34m.\u001b[0m\u001b[0mverSym\u001b[0m\u001b[0;34m(\u001b[0m\u001b[0;32mFalse\u001b[0m\u001b[0;34m)\u001b[0m\u001b[0;34m\u001b[0m\u001b[0;34m\u001b[0m\u001b[0m\n\u001b[1;32m      5\u001b[0m \u001b[0mmesh\u001b[0m\u001b[0;34m.\u001b[0m\u001b[0mmapPtsLines\u001b[0m\u001b[0;34m(\u001b[0m\u001b[0mdelta_i\u001b[0m\u001b[0;34m=\u001b[0m\u001b[0mmapPtsDelta\u001b[0m\u001b[0;34m,\u001b[0m \u001b[0mdelta_j\u001b[0m\u001b[0;34m=\u001b[0m\u001b[0mmapPtsDelta\u001b[0m\u001b[0;34m)\u001b[0m\u001b[0;34m\u001b[0m\u001b[0;34m\u001b[0m\u001b[0m\n",
      "\u001b[0;31mAttributeError\u001b[0m: 'MeshEE' object has no attribute 'clear'"
     ]
    }
   ],
   "source": [
    "# Parâmetros\n",
    "mesh.clear()\n",
    "mesh.horSym(False)\n",
    "mesh.verSym(False)\n",
    "mesh.mapPtsLines(delta_i=mapPtsDelta, delta_j=mapPtsDelta)\n",
    "mesh.drawAllEquip()\n",
    "meshArr = mesh.getMeshArr()\n",
    "\n",
    "# Parâmetros do Plot\n",
    "extent = np.array(mesh.scale).reshape([4])\n",
    "Vlim = 2*q\n",
    "\n",
    "# Plot\n",
    "plt.clf()\n",
    "plt.figure(figsize=(8, 7))\n",
    "plt.rc('axes', labelsize=14)\n",
    "plt.imshow(meshArr, cmap='RdBu', extent=extent, vmin=-Vlim, vmax=Vlim, interpolation='gaussian')\n",
    "plt.xlabel('distance')\n",
    "plt.ylabel('distance')\n",
    "cbar = plt.colorbar()\n",
    "cbar.set_label('Unit of Voltage')\n",
    "plt.savefig('plots/quadrupole-case-1.png')\n",
    "plt.show()"
   ]
  },
  {
   "cell_type": "markdown",
   "metadata": {},
   "source": [
    "## Linha de Carga"
   ]
  },
  {
   "cell_type": "code",
   "execution_count": null,
   "metadata": {},
   "outputs": [],
   "source": []
  },
  {
   "cell_type": "code",
   "execution_count": null,
   "metadata": {},
   "outputs": [],
   "source": []
  },
  {
   "cell_type": "code",
   "execution_count": null,
   "metadata": {},
   "outputs": [],
   "source": []
  }
 ],
 "metadata": {
  "kernelspec": {
   "display_name": "Python 3",
   "language": "python",
   "name": "python3"
  },
  "language_info": {
   "codemirror_mode": {
    "name": "ipython",
    "version": 3
   },
   "file_extension": ".py",
   "mimetype": "text/x-python",
   "name": "python",
   "nbconvert_exporter": "python",
   "pygments_lexer": "ipython3",
   "version": "3.7.4"
  }
 },
 "nbformat": 4,
 "nbformat_minor": 4
}
